{
  "nbformat": 4,
  "nbformat_minor": 0,
  "metadata": {
    "colab": {
      "provenance": []
    },
    "kernelspec": {
      "name": "python3",
      "display_name": "Python 3"
    },
    "language_info": {
      "name": "python"
    },
    "accelerator": "TPU"
  },
  "cells": [
    {
      "cell_type": "markdown",
      "source": [
        "# ABCD IMAGE CLASSIFIER\n",
        "A Convolutional Neural Network made with PyTorch for efficient image classification. It is trained on the EMNIST dataset on the balanced split. It takes in a 28 px by 28 px binary image and classifies it, returning a number from 0 to 3, corresponds to the letters A to D."
      ],
      "metadata": {
        "id": "4ULsQn_dj2oS"
      }
    },
    {
      "cell_type": "markdown",
      "source": [
        "**Metrics**:\n",
        "\n",
        "Parameter Count: 79,428\n",
        "\n",
        "Average loss: 0.0076\n",
        "\n",
        "Accuracy: 98%"
      ],
      "metadata": {
        "id": "zUdlz_ErV3-M"
      }
    },
    {
      "cell_type": "markdown",
      "source": [
        "## IMPORT MODULES AND SET HYPERPARAMETERS"
      ],
      "metadata": {
        "id": "UmEP1kP1MyMr"
      }
    },
    {
      "cell_type": "code",
      "source": [
        "# Import modules\n",
        "import torch\n",
        "import torch.nn as nn\n",
        "import torch.optim as optim\n",
        "import torch.nn.functional as F\n",
        "from torchvision import datasets, transforms\n",
        "from torch.utils.data import DataLoader\n",
        "\n",
        "# For visualizing\n",
        "import matplotlib.pyplot as plt"
      ],
      "metadata": {
        "id": "8mAnFDDY6gba"
      },
      "execution_count": 30,
      "outputs": []
    },
    {
      "cell_type": "code",
      "source": [
        "# Define hyperparameters\n",
        "BATCH_SIZE = 100\n",
        "EPOCHS = 10\n",
        "DROPOUT_RATE = 0.5\n",
        "LEARNING_RATE = 0.001\n",
        "\n",
        "INPUT_CHANNELS = 1\n",
        "OUTPUT_CLASSES = 4\n",
        "CONV1_CHANNELS = 16\n",
        "CONV2_CHANNELS = 32\n",
        "CONV_KERNEL_SIZE = 5\n",
        "MAX_POOL_KERNEL_SIZE = 2\n",
        "FCL1_CHANNELS = CONV2_CHANNELS * 4 * 4\n",
        "FCL2_CHANNELS = 128"
      ],
      "metadata": {
        "id": "N-9Q-OEZSCsc"
      },
      "execution_count": 31,
      "outputs": []
    },
    {
      "cell_type": "markdown",
      "source": [
        "## DATA PREPARATION"
      ],
      "metadata": {
        "id": "mtKZyP3RPRUL"
      }
    },
    {
      "cell_type": "code",
      "source": [
        "# Define a custom transform to binarize the images\n",
        "class Binarize(object):\n",
        "    def __call__(self, img):\n",
        "        return (img > 0.5).float()"
      ],
      "metadata": {
        "id": "msxjhTTP6rWR"
      },
      "execution_count": 32,
      "outputs": []
    },
    {
      "cell_type": "code",
      "source": [
        "# Define the transformations\n",
        "transform = transforms.Compose([\n",
        "    lambda img: transforms.functional.rotate(img, -90),\n",
        "    lambda img: transforms.functional.hflip(img),\n",
        "    transforms.ToTensor(),\n",
        "    Binarize()\n",
        "])"
      ],
      "metadata": {
        "id": "Q9W_UwUw6voe"
      },
      "execution_count": 33,
      "outputs": []
    },
    {
      "cell_type": "code",
      "source": [
        "# Load the EMNIST dataset\n",
        "emnist_train_dataset = datasets.EMNIST(root=\"./data\", split=\"balanced\", train=True, download=True, transform=transform)\n",
        "emnist_test_dataset = datasets.EMNIST(root=\"./data\", split=\"balanced\", train=False, download=True, transform=transform)"
      ],
      "metadata": {
        "id": "N2J-1NPN6wh8"
      },
      "execution_count": 34,
      "outputs": []
    },
    {
      "cell_type": "code",
      "source": [
        "# Labels for A, B, C, and D in EMNIST\n",
        "target_labels = [10, 11, 12, 13]\n",
        "\n",
        "# Filter the dataset to get images labeled A, B, C, and D\n",
        "filtered_train_indices = [i for i in range(len(emnist_train_dataset)) if emnist_train_dataset.targets[i] in target_labels]\n",
        "train_data = torch.utils.data.Subset(emnist_train_dataset, filtered_train_indices)\n",
        "\n",
        "filtered_test_indices = [i for i in range(len(emnist_test_dataset)) if emnist_test_dataset.targets[i] in target_labels]\n",
        "test_data = torch.utils.data.Subset(emnist_test_dataset, filtered_test_indices)\n"
      ],
      "metadata": {
        "id": "yabNQ4oO7Pyd"
      },
      "execution_count": 35,
      "outputs": []
    },
    {
      "cell_type": "code",
      "source": [
        "# Define train and test dataloaders\n",
        "train_loader = DataLoader(train_data, batch_size=BATCH_SIZE, shuffle=True)\n",
        "test_loader = DataLoader(test_data, batch_size=BATCH_SIZE, shuffle=True)"
      ],
      "metadata": {
        "id": "MDFqWqDNAB_G"
      },
      "execution_count": 36,
      "outputs": []
    },
    {
      "cell_type": "markdown",
      "source": [
        "## VISUALIZATION"
      ],
      "metadata": {
        "id": "JfK-W8HJ0wmx"
      }
    },
    {
      "cell_type": "code",
      "source": [
        "# Set a counter variable for visualization\n",
        "counter = 0"
      ],
      "metadata": {
        "id": "-IBvEzkg-SFu"
      },
      "execution_count": 37,
      "outputs": []
    },
    {
      "cell_type": "code",
      "source": [
        "# Visualize a sample image after binarization and filtration\n",
        "sample_image, sample_label = test_data[counter]\n",
        "counter += 1\n",
        "sample_image = sample_image.squeeze().numpy()\n",
        "mapping = [\"A\", \"B\", \"C\", \"D\"]\n",
        "label_string = mapping[sample_label - 10]\n",
        "\n",
        "plt.imshow(sample_image, cmap=\"gray\")\n",
        "plt.title(f\"Label: {label_string}\")\n",
        "plt.show()"
      ],
      "metadata": {
        "colab": {
          "base_uri": "https://localhost:8080/",
          "height": 452
        },
        "id": "NSiHUGkk7QxU",
        "outputId": "f5f3267d-05bb-4a3f-ca7b-dbf604fc2b03"
      },
      "execution_count": 38,
      "outputs": [
        {
          "output_type": "display_data",
          "data": {
            "text/plain": [
              "<Figure size 640x480 with 1 Axes>"
            ],
            "image/png": "[encoded data removed]"
          },
          "metadata": {}
        }
      ]
    },
    {
      "cell_type": "markdown",
      "source": [
        "## MODEL CLASS DEFINITION"
      ],
      "metadata": {
        "id": "r1CQDRNHSZBm"
      }
    },
    {
      "cell_type": "code",
      "source": [
        "# Define the CNN model\n",
        "class ABCDClassifier(nn.Module):\n",
        "\n",
        "  def __init__(self):\n",
        "    super(ABCDClassifier, self).__init__()\n",
        "\n",
        "    self.conv1 = nn.Conv2d(INPUT_CHANNELS, CONV1_CHANNELS, kernel_size=CONV_KERNEL_SIZE)\n",
        "    self.conv2 = nn.Conv2d(CONV1_CHANNELS, CONV2_CHANNELS, kernel_size=CONV_KERNEL_SIZE)\n",
        "    self.conv2_drop = nn.Dropout2d(p=DROPOUT_RATE)\n",
        "    self.fc1 = nn.Linear(FCL1_CHANNELS, FCL2_CHANNELS)\n",
        "    self.fc2 = nn.Linear(FCL2_CHANNELS, OUTPUT_CLASSES)\n",
        "\n",
        "  def forward(self, x):\n",
        "    x = F.relu(F.max_pool2d(self.conv1(x), MAX_POOL_KERNEL_SIZE))\n",
        "    x = F.relu(F.max_pool2d(self.conv2_drop(self.conv2(x)), MAX_POOL_KERNEL_SIZE))\n",
        "    x = x.view(-1, FCL1_CHANNELS)\n",
        "    x = F.relu(self.fc1(x))\n",
        "    x = F.dropout(x, p=DROPOUT_RATE, training=self.training)\n",
        "    x = self.fc2(x)\n",
        "\n",
        "    return F.softmax(x, dim=1)"
      ],
      "metadata": {
        "id": "BfKt1jhuIvL4"
      },
      "execution_count": 39,
      "outputs": []
    },
    {
      "cell_type": "markdown",
      "source": [
        "## TRAIN AND TEST FUNCTION DEFINITION"
      ],
      "metadata": {
        "id": "66NbyTcWTOu7"
      }
    },
    {
      "cell_type": "code",
      "source": [
        "# Determine device\n",
        "device = torch.device(\"cuda\" if torch.cuda.is_available() else \"cpu\")\n",
        "\n",
        "# Instantiate the model\n",
        "model = ABCDClassifier().to(device)\n",
        "\n",
        "# Define the optimizer and the loss function\n",
        "optimizer = optim.Adam(model.parameters(), lr=LEARNING_RATE)\n",
        "loss_fn = nn.CrossEntropyLoss()\n",
        "\n",
        "# Define the train function\n",
        "def train(epoch):\n",
        "  model.train()\n",
        "  for batch_idx, (data, target) in enumerate(train_loader):\n",
        "    data, target = data.to(device), target.to(device)\n",
        "    converted_indices = target - 10\n",
        "    optimizer.zero_grad()\n",
        "    output = model(data)\n",
        "    loss = loss_fn(output, converted_indices)\n",
        "    loss.backward()\n",
        "    optimizer.step()\n",
        "    if batch_idx == 0:\n",
        "      print(f\"Train Epoch: {epoch}\")\n",
        "    if batch_idx % 20 == 0:\n",
        "      print(f\"[{batch_idx * len(data)} / {len(train_loader.dataset)} ({100.0 * batch_idx * len(data)/ len(train_loader.dataset):.0f}%)]\\tLoss: {loss.item():.6f}\")\n",
        "\n",
        "# Define the test function\n",
        "def test():\n",
        "  model.eval()\n",
        "  test_loss = 0\n",
        "  correct = 0\n",
        "\n",
        "  with torch.no_grad():\n",
        "    for data, target in test_loader:\n",
        "      data, target = data.to(device), target.to(device)\n",
        "      converted_indices = target - 10\n",
        "      output = model(data)\n",
        "      test_loss += loss_fn(output, converted_indices).item()\n",
        "      pred = output.argmax(dim=1, keepdim=True)\n",
        "      correct += pred.eq(converted_indices.view_as(pred)).sum().item()\n",
        "\n",
        "  test_loss /= len(test_loader.dataset)\n",
        "  print(f\"\\nTest Set: Average loss: {test_loss:.4f}, Accuracy {correct}/{len(test_loader.dataset)} ({100.0 * correct / len(test_loader.dataset):.0f}%)\\n\")"
      ],
      "metadata": {
        "id": "V71qZzgpPM0R"
      },
      "execution_count": 40,
      "outputs": []
    },
    {
      "cell_type": "markdown",
      "source": [
        "## TRAINING THE MODEL"
      ],
      "metadata": {
        "id": "yIVAyJkhThQD"
      }
    },
    {
      "cell_type": "code",
      "source": [
        "# Train and test 10 epochs\n",
        "for epoch in range(1, EPOCHS + 1):\n",
        "  train(epoch)\n",
        "  test()\n",
        "\n",
        "# Determine the parameter count of the model\n",
        "num_params = sum(p.numel() for p in model.parameters())\n",
        "print(f\"Model Parameter Count: {num_params}\")"
      ],
      "metadata": {
        "colab": {
          "base_uri": "https://localhost:8080/"
        },
        "id": "9NeZP_njUBYx",
        "outputId": "bfd91bc0-bbac-4296-b68a-acb040737258"
      },
      "execution_count": 41,
      "outputs": [
        {
          "output_type": "stream",
          "name": "stdout",
          "text": [
            "Train Epoch: 1\n",
            "[0 / 9600 (0%)]\tLoss: 1.385758\n",
            "[2000 / 9600 (21%)]\tLoss: 1.166502\n",
            "[4000 / 9600 (42%)]\tLoss: 0.908033\n",
            "[6000 / 9600 (62%)]\tLoss: 0.876347\n",
            "[8000 / 9600 (83%)]\tLoss: 0.842848\n",
            "\n",
            "Test Set: Average loss: 0.0081, Accuracy 1492/1600 (93%)\n",
            "\n",
            "Train Epoch: 2\n",
            "[0 / 9600 (0%)]\tLoss: 0.818675\n",
            "[2000 / 9600 (21%)]\tLoss: 0.810343\n",
            "[4000 / 9600 (42%)]\tLoss: 0.815025\n",
            "[6000 / 9600 (62%)]\tLoss: 0.812238\n",
            "[8000 / 9600 (83%)]\tLoss: 0.823218\n",
            "\n",
            "Test Set: Average loss: 0.0079, Accuracy 1528/1600 (96%)\n",
            "\n",
            "Train Epoch: 3\n",
            "[0 / 9600 (0%)]\tLoss: 0.813530\n",
            "[2000 / 9600 (21%)]\tLoss: 0.796925\n",
            "[4000 / 9600 (42%)]\tLoss: 0.772125\n",
            "[6000 / 9600 (62%)]\tLoss: 0.833088\n",
            "[8000 / 9600 (83%)]\tLoss: 0.803852\n",
            "\n",
            "Test Set: Average loss: 0.0079, Accuracy 1535/1600 (96%)\n",
            "\n",
            "Train Epoch: 4\n",
            "[0 / 9600 (0%)]\tLoss: 0.808162\n",
            "[2000 / 9600 (21%)]\tLoss: 0.765743\n",
            "[4000 / 9600 (42%)]\tLoss: 0.778205\n",
            "[6000 / 9600 (62%)]\tLoss: 0.783839\n",
            "[8000 / 9600 (83%)]\tLoss: 0.784179\n",
            "\n",
            "Test Set: Average loss: 0.0078, Accuracy 1545/1600 (97%)\n",
            "\n",
            "Train Epoch: 5\n",
            "[0 / 9600 (0%)]\tLoss: 0.807322\n",
            "[2000 / 9600 (21%)]\tLoss: 0.775514\n",
            "[4000 / 9600 (42%)]\tLoss: 0.782641\n",
            "[6000 / 9600 (62%)]\tLoss: 0.767894\n",
            "[8000 / 9600 (83%)]\tLoss: 0.787734\n",
            "\n",
            "Test Set: Average loss: 0.0077, Accuracy 1551/1600 (97%)\n",
            "\n",
            "Train Epoch: 6\n",
            "[0 / 9600 (0%)]\tLoss: 0.780416\n",
            "[2000 / 9600 (21%)]\tLoss: 0.794099\n",
            "[4000 / 9600 (42%)]\tLoss: 0.780087\n",
            "[6000 / 9600 (62%)]\tLoss: 0.755857\n",
            "[8000 / 9600 (83%)]\tLoss: 0.765381\n",
            "\n",
            "Test Set: Average loss: 0.0077, Accuracy 1555/1600 (97%)\n",
            "\n",
            "Train Epoch: 7\n",
            "[0 / 9600 (0%)]\tLoss: 0.779421\n",
            "[2000 / 9600 (21%)]\tLoss: 0.758923\n",
            "[4000 / 9600 (42%)]\tLoss: 0.796872\n",
            "[6000 / 9600 (62%)]\tLoss: 0.749907\n",
            "[8000 / 9600 (83%)]\tLoss: 0.760848\n",
            "\n",
            "Test Set: Average loss: 0.0077, Accuracy 1557/1600 (97%)\n",
            "\n",
            "Train Epoch: 8\n",
            "[0 / 9600 (0%)]\tLoss: 0.763864\n",
            "[2000 / 9600 (21%)]\tLoss: 0.757412\n",
            "[4000 / 9600 (42%)]\tLoss: 0.747360\n",
            "[6000 / 9600 (62%)]\tLoss: 0.755871\n",
            "[8000 / 9600 (83%)]\tLoss: 0.759600\n",
            "\n",
            "Test Set: Average loss: 0.0077, Accuracy 1560/1600 (98%)\n",
            "\n",
            "Train Epoch: 9\n",
            "[0 / 9600 (0%)]\tLoss: 0.787533\n",
            "[2000 / 9600 (21%)]\tLoss: 0.760659\n",
            "[4000 / 9600 (42%)]\tLoss: 0.756955\n",
            "[6000 / 9600 (62%)]\tLoss: 0.745197\n",
            "[8000 / 9600 (83%)]\tLoss: 0.771172\n",
            "\n",
            "Test Set: Average loss: 0.0077, Accuracy 1563/1600 (98%)\n",
            "\n",
            "Train Epoch: 10\n",
            "[0 / 9600 (0%)]\tLoss: 0.782729\n",
            "[2000 / 9600 (21%)]\tLoss: 0.755669\n",
            "[4000 / 9600 (42%)]\tLoss: 0.781759\n",
            "[6000 / 9600 (62%)]\tLoss: 0.756899\n",
            "[8000 / 9600 (83%)]\tLoss: 0.776873\n",
            "\n",
            "Test Set: Average loss: 0.0076, Accuracy 1565/1600 (98%)\n",
            "\n",
            "Model Parameter Count: 79428\n"
          ]
        }
      ]
    },
    {
      "cell_type": "markdown",
      "source": [
        "## SAVING AND DOWNLOADING THE MODEL STATE DICTIONARY"
      ],
      "metadata": {
        "id": "TkvWZV3WToOb"
      }
    },
    {
      "cell_type": "code",
      "source": [
        "# Save model state dict\n",
        "torch.save(model.state_dict(), \"image_classifier.pth\")"
      ],
      "metadata": {
        "id": "HC_j-FZvkXIB"
      },
      "execution_count": 42,
      "outputs": []
    },
    {
      "cell_type": "code",
      "source": [
        "# Download model state dict\n",
        "from google.colab import files\n",
        "\n",
        "files.download(\"image_classifier.pth\")"
      ],
      "metadata": {
        "colab": {
          "base_uri": "https://localhost:8080/",
          "height": 17
        },
        "id": "wF5TuTCulY1x",
        "outputId": "9ca56fc5-c8bc-485a-a7d2-332556179692"
      },
      "execution_count": 43,
      "outputs": [
        {
          "output_type": "display_data",
          "data": {
            "text/plain": [
              "<IPython.core.display.Javascript object>"
            ],
            "application/javascript": [
              "\n",
              "    async function download(id, filename, size) {\n",
              "      if (!google.colab.kernel.accessAllowed) {\n",
              "        return;\n",
              "      }\n",
              "      const div = document.createElement('div');\n",
              "      const label = document.createElement('label');\n",
              "      label.textContent = `Downloading \"${filename}\": `;\n",
              "      div.appendChild(label);\n",
              "      const progress = document.createElement('progress');\n",
              "      progress.max = size;\n",
              "      div.appendChild(progress);\n",
              "      document.body.appendChild(div);\n",
              "\n",
              "      const buffers = [];\n",
              "      let downloaded = 0;\n",
              "\n",
              "      const channel = await google.colab.kernel.comms.open(id);\n",
              "      // Send a message to notify the kernel that we're ready.\n",
              "      channel.send({})\n",
              "\n",
              "      for await (const message of channel.messages) {\n",
              "        // Send a message to notify the kernel that we're ready.\n",
              "        channel.send({})\n",
              "        if (message.buffers) {\n",
              "          for (const buffer of message.buffers) {\n",
              "            buffers.push(buffer);\n",
              "            downloaded += buffer.byteLength;\n",
              "            progress.value = downloaded;\n",
              "          }\n",
              "        }\n",
              "      }\n",
              "      const blob = new Blob(buffers, {type: 'application/binary'});\n",
              "      const a = document.createElement('a');\n",
              "      a.href = window.URL.createObjectURL(blob);\n",
              "      a.download = filename;\n",
              "      div.appendChild(a);\n",
              "      a.click();\n",
              "      div.remove();\n",
              "    }\n",
              "  "
            ]
          },
          "metadata": {}
        },
        {
          "output_type": "display_data",
          "data": {
            "text/plain": [
              "<IPython.core.display.Javascript object>"
            ],
            "application/javascript": [
              "download(\"download_e49ad02a-aab5-4870-acc1-f958dc1db2d3\", \"image_classifier.pth\", 321004)"
            ]
          },
          "metadata": {}
        }
      ]
    }
  ]
}